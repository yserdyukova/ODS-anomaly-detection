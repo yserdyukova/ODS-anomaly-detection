{
 "cells": [
  {
   "cell_type": "code",
   "execution_count": 2,
   "metadata": {},
   "outputs": [],
   "source": [
    "import pandas as pd\n",
    "from showforecast import show_forecast\n",
    "from plotly.offline import init_notebook_mode, plot, iplot\n",
    "\n",
    "\n",
    "if __name__ == \"__main__\":\n",
    "    \n",
    "    df = pd.read_csv('../models/model_result/prophet_trends.csv', ';', infer_datetime_format=True, parse_dates=['time'])\n",
    "\n",
    "    for consumer_group in df.consumer_group.unique():\n",
    "        fig_reqs = show_forecast(df[df.consumer_group == consumer_group], df.drop(columns=['time', 'host', 'consumer_group']).columns, consumer_group, range=False)\n",
    "\n",
    "        plot(fig_reqs, filename='../server/html/trends/trend_{0}.html'.format(consumer_group), auto_open=False, show_link=False)\n"
   ]
  }
 ],
 "metadata": {
  "kernelspec": {
   "display_name": "Python 3",
   "language": "python",
   "name": "python3"
  },
  "language_info": {
   "codemirror_mode": {
    "name": "ipython",
    "version": 3
   },
   "file_extension": ".py",
   "mimetype": "text/x-python",
   "name": "python",
   "nbconvert_exporter": "python",
   "pygments_lexer": "ipython3",
   "version": "3.6.4"
  }
 },
 "nbformat": 4,
 "nbformat_minor": 2
}
