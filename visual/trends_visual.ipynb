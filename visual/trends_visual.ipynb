{
 "cells": [
  {
   "cell_type": "code",
   "execution_count": 5,
   "metadata": {},
   "outputs": [],
   "source": [
    "import pandas as pd\n",
    "from plotly.offline import init_notebook_mode, plot, iplot\n",
    "from showforecast import show_forecast\n",
    "\n",
    "if __name__ == \"__main__\":\n",
    "    \n",
    "    df = pd.read_csv('../models/model_result/prophet_trends_by_metrics.csv', ';', infer_datetime_format=True, parse_dates=['time'])\n",
    "\n",
    "    for metric in df.drop(columns=['time', 'host', 'consumer_group']).columns:\n",
    "        fig_reqs = show_forecast(df, df.consumer_group.unique(), metric, anomaly=None, by_group=False, trend=True)\n",
    "        plot(fig_reqs, filename='../server/html/trends/by_metrics/trend_{0}.html'.format(metric), auto_open=False, show_link=False)\n",
    "\n",
    "\n",
    "    #df = pd.read_csv('../models/model_result/prophet_trends_by_groups.csv', ';', infer_datetime_format=True, parse_dates=['time'])\n",
    "\n",
    "    #for group in df.consumer_group.unique():\n",
    "    #    fig_reqs = show_forecast(df[df.consumer_group == group], df.drop(columns=['time', 'host', 'consumer_group']).columns, group, anomaly=None, trend=True)\n",
    "    #    plot(fig_reqs, filename='../server/html/trends/by_groups/trend_{0}.html'.format(group), auto_open=False, show_link=False)\n",
    "\n",
    "    # !!!! Поменять хосты и метрики местами\n",
    "    df = pd.read_csv('../models/model_result/prophet_trends_by_sysmetrics.csv', ';', infer_datetime_format=True, parse_dates=['time'])\n",
    "    fig_reqs = show_forecast(df, df.drop(columns=['time', 'host']).columns, 'sys metrics', anomaly=None, trend=True)\n",
    "    plot(fig_reqs, filename='../server/html/trends/sys_metrics/trend_sys_metrics.html', auto_open=False, show_link=False)\n",
    "        \n"
   ]
  }
 ],
 "metadata": {
  "kernelspec": {
   "display_name": "Python 3",
   "language": "python",
   "name": "python3"
  },
  "language_info": {
   "codemirror_mode": {
    "name": "ipython",
    "version": 3
   },
   "file_extension": ".py",
   "mimetype": "text/x-python",
   "name": "python",
   "nbconvert_exporter": "python",
   "pygments_lexer": "ipython3",
   "version": "3.6.4"
  }
 },
 "nbformat": 4,
 "nbformat_minor": 2
}
