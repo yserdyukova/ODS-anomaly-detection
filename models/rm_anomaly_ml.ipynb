{
 "cells": [
  {
   "cell_type": "code",
   "execution_count": 1,
   "metadata": {},
   "outputs": [
    {
     "name": "stderr",
     "output_type": "stream",
     "text": [
      "C:\\Users\\JustMe\\Anaconda3\\lib\\site-packages\\h5py\\__init__.py:36: FutureWarning: Conversion of the second argument of issubdtype from `float` to `np.floating` is deprecated. In future, it will be treated as `np.float64 == np.dtype(float).type`.\n",
      "  from ._conv import register_converters as _register_converters\n",
      "Using TensorFlow backend.\n"
     ]
    }
   ],
   "source": [
    "#!/usr/bin/env python3\n",
    "\n",
    "import pandas as pd\n",
    "import numpy as np\n",
    "import itertools\n",
    "\n",
    "import sys\n",
    "\n",
    "from datetime import datetime, timedelta, date\n",
    "from collections import defaultdict\n",
    "\n",
    "from keras.layers import Input, Dense\n",
    "from keras.models import Model\n",
    "from keras import regularizers\n",
    "from keras.callbacks import EarlyStopping\n",
    "\n"
   ]
  },
  {
   "cell_type": "code",
   "execution_count": 2,
   "metadata": {},
   "outputs": [],
   "source": [
    "def rmse(predictions, targets):\n",
    "    return np.sqrt(((predictions - targets) ** 2).mean(axis=1))\n",
    "\n",
    "def mse(predictions, targets):\n",
    "    return((predictions - targets) ** 2).mean(axis=1)\n",
    "\n",
    "def mae(predictions, targets):\n",
    "    return (abs(predictions - targets)).mean(axis=1)"
   ]
  },
  {
   "cell_type": "markdown",
   "metadata": {},
   "source": [
    "## Autoencoders"
   ]
  },
  {
   "cell_type": "code",
   "execution_count": 3,
   "metadata": {},
   "outputs": [],
   "source": [
    "def noise_repeat(X, noise=0.2, repeat=5):\n",
    "    \n",
    "    X_real = np.repeat(X, repeat, axis=0)\n",
    "    noise_array = noise * np.random.normal(loc=0.0, scale=1.0, size=[X.shape[i] * repeat if i == 0 else X.shape[i] if i == 1 else 1 for i in range(len(X.shape))])\n",
    "    X_noise = np.clip(X_real + noise_array, 0, 1)\n",
    "    \n",
    "    return X, X_real, X_noise\n",
    "\n",
    "\n",
    "def autoencoder_fit(X_predict, X_real, X_noise, model, verbose=0):\n",
    "    \n",
    "    model.compile(optimizer='adam', loss='mean_squared_error')\n",
    "    earlystopper = EarlyStopping(monitor='val_loss', patience=3)\n",
    "    model.fit(X_noise, \n",
    "                    X_real,\n",
    "                    epochs=1000,\n",
    "                    batch_size=128,\n",
    "                    shuffle=True,\n",
    "                    validation_split=0.2,\n",
    "                    verbose=verbose,\n",
    "                    callbacks=[earlystopper])\n",
    "    \n",
    "    return model.predict(X_predict)\n",
    "\n",
    "\n",
    "def noise_autoencoder(dim):\n",
    "    \n",
    "    X_input = Input(shape=(dim,))\n",
    "    encoded = Dense(128, activation='relu')(X_input)\n",
    "    encoded = Dense(64, activation='linear', activity_regularizer=regularizers.l1(10e-5))(encoded)\n",
    "    decoded = Dense(128, activation='relu')(encoded)\n",
    "    decoded = Dense(dim, activation='sigmoid')(decoded)\n",
    "    \n",
    "    autoencoder = Model(X_input, decoded)\n",
    "    autoencoder.compile(optimizer='adam', loss='mean_squared_error')\n",
    "\n",
    "    return autoencoder\n",
    "\n"
   ]
  },
  {
   "cell_type": "code",
   "execution_count": 4,
   "metadata": {},
   "outputs": [],
   "source": [
    "if __name__ == \"__main__\":\n",
    "    \n",
    "    df = pd.read_csv('../features/clear_data/rm_features.csv', ';', infer_datetime_format=True, parse_dates=['time'])\n",
    "\n",
    "    # Noise AutoEncoder\n",
    "    X = df.set_index(['time', 'host', 'consumer_group'])\n",
    "    X_predict, X_real, X_noise = noise_repeat(X.values)\n",
    "    noise_model = noise_autoencoder(X_predict.shape[1])\n",
    "    autoencoder_predict = autoencoder_fit(X_predict, X_real, X_noise, noise_model, verbose=0)\n",
    "    autoencoder_error = pd.concat([X.reset_index(), pd.DataFrame(mse(autoencoder_predict, X.values), columns=['error'])], axis=1, sort=False)\n",
    "   \n",
    "    autoencoder_error.to_csv('../results/autoencoder_err.csv', ';', index=False)"
   ]
  }
 ],
 "metadata": {
  "kernelspec": {
   "display_name": "Python 3",
   "language": "python",
   "name": "python3"
  },
  "language_info": {
   "codemirror_mode": {
    "name": "ipython",
    "version": 3
   },
   "file_extension": ".py",
   "mimetype": "text/x-python",
   "name": "python",
   "nbconvert_exporter": "python",
   "pygments_lexer": "ipython3",
   "version": "3.6.4"
  }
 },
 "nbformat": 4,
 "nbformat_minor": 2
}
