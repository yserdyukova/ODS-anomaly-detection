{
 "cells": [
  {
   "cell_type": "code",
   "execution_count": 32,
   "metadata": {},
   "outputs": [],
   "source": [
    "import pandas as pd\n",
    "import numpy as np\n",
    "import itertools\n",
    "from datetime import datetime,timedelta,date\n",
    "from collections import defaultdict"
   ]
  },
  {
   "cell_type": "code",
   "execution_count": 129,
   "metadata": {},
   "outputs": [],
   "source": [
    "df = pd.read_csv('../features/clear_data/rm_features.csv',';',infer_datetime_format=True,index_col=['time','host','consumer_group'],parse_dates=['time'])\n",
    "#df = pd.read_csv('../features/clear_data/rm_features.csv',';',infer_datetime_format=True,index_col=['time'],parse_dates=['time'])"
   ]
  },
  {
   "cell_type": "code",
   "execution_count": 122,
   "metadata": {},
   "outputs": [],
   "source": [
    "#host_cons=[(host,group) for host,group in df.drop_duplicates(['host','consumer_group'])[['host','consumer_group']].values]\n"
   ]
  },
  {
   "cell_type": "code",
   "execution_count": null,
   "metadata": {},
   "outputs": [],
   "source": [
    "# добавить признаки свертки"
   ]
  },
  {
   "cell_type": "code",
   "execution_count": 39,
   "metadata": {},
   "outputs": [],
   "source": [
    "#ts_period=1 # количество дней \n",
    "#n_length=24 # количество часов\n",
    "\n",
    "\n",
    "#def window_stack(a, window=ts_period*n_length):\n",
    "    # разбиваем данные на окна длиной ts_period\n",
    "#    X=np.array([a[i:window+i] for i in range(int(len(a) - window))])\n",
    "#    return X\n",
    "\n"
   ]
  },
  {
   "cell_type": "code",
   "execution_count": 165,
   "metadata": {},
   "outputs": [],
   "source": [
    "outliers_fraction = 0.005\n",
    "def predict(model,X,mode=0):\n",
    "    if mode==0:\n",
    "        return model.fit(X).predict(X)\n",
    "    else:\n",
    "        return model.fit_predict(X)\n",
    "        \n"
   ]
  },
  {
   "cell_type": "code",
   "execution_count": 162,
   "metadata": {},
   "outputs": [],
   "source": [
    "from sklearn.ensemble import IsolationForest\n",
    "\n",
    "rns = np.random.RandomState(42)\n",
    "model_IF = IsolationForest(random_state=rns,contamination=outliers_fraction,n_estimators =1000)\n",
    "\n",
    "anomaly_IF = predict(model_IF,df)\n",
    "\n"
   ]
  },
  {
   "cell_type": "code",
   "execution_count": 170,
   "metadata": {},
   "outputs": [],
   "source": [
    "from sklearn.neighbors import LocalOutlierFactor\n",
    "\n",
    "model_LOF = LocalOutlierFactor(n_neighbors=35, contamination=outliers_fraction)\n",
    "anomaly_LOF = predict(model_LOF,df,mode=1)"
   ]
  },
  {
   "cell_type": "code",
   "execution_count": 172,
   "metadata": {},
   "outputs": [],
   "source": [
    "from sklearn import svm\n",
    "\n",
    "model_SVM = svm.OneClassSVM(random_state=rns, nu=outliers_fraction, kernel=\"rbf\", gamma=0.01)\n",
    "anomaly_SVM = predict(model_SVM,df)"
   ]
  },
  {
   "cell_type": "code",
   "execution_count": 173,
   "metadata": {},
   "outputs": [
    {
     "name": "stderr",
     "output_type": "stream",
     "text": [
      "C:\\Users\\JustMe\\Anaconda3\\lib\\site-packages\\sklearn\\covariance\\robust_covariance.py:622: UserWarning: The covariance matrix associated to your dataset is not full rank\n",
      "  warnings.warn(\"The covariance matrix associated to your dataset \"\n"
     ]
    }
   ],
   "source": [
    "from sklearn.covariance import EllipticEnvelope\n",
    "\n",
    "model_EE = EllipticEnvelope(contamination=outliers_fraction)\n",
    "anomaly_EE = predict(model_EE,df)"
   ]
  },
  {
   "cell_type": "code",
   "execution_count": 193,
   "metadata": {},
   "outputs": [
    {
     "data": {
      "text/plain": [
       "PCA(copy=True, iterated_power='auto', n_components=15, random_state=None,\n",
       "  svd_solver='full', tol=0.0, whiten=False)"
      ]
     },
     "execution_count": 193,
     "metadata": {},
     "output_type": "execute_result"
    }
   ],
   "source": [
    "from sklearn.decomposition import PCA\n",
    "\n",
    "model_PCA = PCA(n_components=15, svd_solver='full')\n",
    "model_PCA.fit(df)"
   ]
  },
  {
   "cell_type": "code",
   "execution_count": 209,
   "metadata": {},
   "outputs": [],
   "source": []
  },
  {
   "cell_type": "code",
   "execution_count": 212,
   "metadata": {},
   "outputs": [
    {
     "ename": "AttributeError",
     "evalue": "'PCA' object has no attribute 'n_selected_components_'",
     "output_type": "error",
     "traceback": [
      "\u001b[1;31m---------------------------------------------------------------------------\u001b[0m",
      "\u001b[1;31mAttributeError\u001b[0m                            Traceback (most recent call last)",
      "\u001b[1;32m<ipython-input-212-79b73d526f25>\u001b[0m in \u001b[0;36m<module>\u001b[1;34m()\u001b[0m\n\u001b[0;32m      1\u001b[0m \u001b[0mw_components_\u001b[0m \u001b[1;33m=\u001b[0m \u001b[0mnp\u001b[0m\u001b[1;33m.\u001b[0m\u001b[0mones\u001b[0m\u001b[1;33m(\u001b[0m\u001b[1;33m[\u001b[0m\u001b[0mmodel_PCA\u001b[0m\u001b[1;33m.\u001b[0m\u001b[0mn_components_\u001b[0m\u001b[1;33m,\u001b[0m \u001b[1;33m]\u001b[0m\u001b[1;33m)\u001b[0m\u001b[1;33m\u001b[0m\u001b[0m\n\u001b[1;32m----> 2\u001b[1;33m \u001b[0mselected_components_\u001b[0m \u001b[1;33m=\u001b[0m \u001b[0mmodel_PCA\u001b[0m\u001b[1;33m.\u001b[0m\u001b[0mcomponents_\u001b[0m\u001b[1;33m[\u001b[0m\u001b[1;33m-\u001b[0m\u001b[1;36m1\u001b[0m \u001b[1;33m*\u001b[0m \u001b[0mmodel_PCA\u001b[0m\u001b[1;33m.\u001b[0m\u001b[0mn_selected_components_\u001b[0m\u001b[1;33m:\u001b[0m\u001b[1;33m,\u001b[0m \u001b[1;33m:\u001b[0m\u001b[1;33m]\u001b[0m\u001b[1;33m\u001b[0m\u001b[0m\n\u001b[0m\u001b[0;32m      3\u001b[0m \u001b[0mselected_w_components_\u001b[0m \u001b[1;33m=\u001b[0m \u001b[0mw_components_\u001b[0m\u001b[1;33m[\u001b[0m\u001b[1;33m-\u001b[0m\u001b[1;36m1\u001b[0m \u001b[1;33m*\u001b[0m \u001b[0mmodel_PCA\u001b[0m\u001b[1;33m.\u001b[0m\u001b[0mn_selected_components_\u001b[0m\u001b[1;33m:\u001b[0m\u001b[1;33m]\u001b[0m\u001b[1;33m\u001b[0m\u001b[0m\n",
      "\u001b[1;31mAttributeError\u001b[0m: 'PCA' object has no attribute 'n_selected_components_'"
     ]
    }
   ],
   "source": [
    "w_components_ = np.ones([model_PCA.n_components_, ])\n",
    "selected_components_ = model_PCA.components_[-1 * model_PCA.n_selected_components_:, :]\n",
    "selected_w_components_ = w_components_[-1 * model_PCA.n_selected_components_:]"
   ]
  },
  {
   "cell_type": "code",
   "execution_count": 186,
   "metadata": {},
   "outputs": [
    {
     "data": {
      "text/plain": [
       "(array([0, 1], dtype=int64), array([10992,  7680], dtype=int64))"
      ]
     },
     "execution_count": 186,
     "metadata": {},
     "output_type": "execute_result"
    }
   ],
   "source": [
    "np.unique(anomaly_GMM,return_counts =True)"
   ]
  },
  {
   "cell_type": "code",
   "execution_count": 178,
   "metadata": {},
   "outputs": [
    {
     "data": {
      "text/html": [
       "<div>\n",
       "<style scoped>\n",
       "    .dataframe tbody tr th:only-of-type {\n",
       "        vertical-align: middle;\n",
       "    }\n",
       "\n",
       "    .dataframe tbody tr th {\n",
       "        vertical-align: top;\n",
       "    }\n",
       "\n",
       "    .dataframe thead th {\n",
       "        text-align: right;\n",
       "    }\n",
       "</style>\n",
       "<table border=\"1\" class=\"dataframe\">\n",
       "  <thead>\n",
       "    <tr style=\"text-align: right;\">\n",
       "      <th></th>\n",
       "      <th>time</th>\n",
       "      <th>host</th>\n",
       "      <th>consumer_group</th>\n",
       "      <th>cpu</th>\n",
       "      <th>dbtime</th>\n",
       "      <th>iowait</th>\n",
       "      <th>oth_wait</th>\n",
       "      <th>pga</th>\n",
       "      <th>pxenq</th>\n",
       "      <th>pxqry</th>\n",
       "      <th>...</th>\n",
       "      <th>hour_of_day_23</th>\n",
       "      <th>hour_of_day_3</th>\n",
       "      <th>hour_of_day_4</th>\n",
       "      <th>hour_of_day_5</th>\n",
       "      <th>hour_of_day_6</th>\n",
       "      <th>hour_of_day_7</th>\n",
       "      <th>hour_of_day_8</th>\n",
       "      <th>hour_of_day_9</th>\n",
       "      <th>quarter_of_year_4</th>\n",
       "      <th>is_anomaly</th>\n",
       "    </tr>\n",
       "  </thead>\n",
       "  <tbody>\n",
       "  </tbody>\n",
       "</table>\n",
       "<p>0 rows × 108 columns</p>\n",
       "</div>"
      ],
      "text/plain": [
       "Empty DataFrame\n",
       "Columns: [time, host, consumer_group, cpu, dbtime, iowait, oth_wait, pga, pxenq, pxqry, pxqtime, pxrel, read, reqs, write, yields, max_utilization_limit, mgmt_p1, parallel_degree_limit_p1, parallel_target_percentage, sys_actsess_avg, sys_actsess_max, sys_cpu, sys_dbtime, sys_iowait, sys_oswait, sys_pga, sys_pxqct, sys_pxruns, sys_pxsrvt, sys_read, sys_redo, sys_rmwait, sys_syspct, sys_ucalls, sys_write, day_of_months, day_of_week, month_of_year, hour_of_day, is_weekend, quarter_of_year, is_holiday, day_of_months_1, day_of_months_10, day_of_months_11, day_of_months_12, day_of_months_13, day_of_months_14, day_of_months_15, day_of_months_16, day_of_months_17, day_of_months_18, day_of_months_19, day_of_months_2, day_of_months_20, day_of_months_21, day_of_months_22, day_of_months_23, day_of_months_24, day_of_months_25, day_of_months_26, day_of_months_27, day_of_months_28, day_of_months_29, day_of_months_3, day_of_months_30, day_of_months_4, day_of_months_5, day_of_months_6, day_of_months_7, day_of_months_8, day_of_months_9, day_of_week_0, day_of_week_1, day_of_week_2, day_of_week_3, day_of_week_4, day_of_week_5, day_of_week_6, month_of_year_11, month_of_year_12, hour_of_day_0, hour_of_day_1, hour_of_day_10, hour_of_day_11, hour_of_day_12, hour_of_day_13, hour_of_day_14, hour_of_day_15, hour_of_day_16, hour_of_day_17, hour_of_day_18, hour_of_day_19, hour_of_day_2, hour_of_day_20, hour_of_day_21, hour_of_day_22, hour_of_day_23, hour_of_day_3, ...]\n",
       "Index: []\n",
       "\n",
       "[0 rows x 108 columns]"
      ]
     },
     "execution_count": 178,
     "metadata": {},
     "output_type": "execute_result"
    }
   ],
   "source": [
    "df_predict=pd.concat([df.reset_index(),pd.DataFrame(anomaly_GMM,columns=['is_anomaly'])],axis=1,sort=False)\n",
    "df_predict[(df_predict.is_anomaly==-1)&(df_predict.consumer_group=='szb_sandbox_group')]"
   ]
  },
  {
   "cell_type": "code",
   "execution_count": null,
   "metadata": {},
   "outputs": [],
   "source": [
    "df_predict=pd.concat([df.reset_index(),pd.DataFrame(anomaly_IF,columns=['is_anomaly'])],axis=1,sort=False)\n",
    "df_predict[(df_predict.is_anomaly==-1)&(df_predict.consumer_group=='szb_sandbox_group')]"
   ]
  }
 ],
 "metadata": {
  "kernelspec": {
   "display_name": "Python 3",
   "language": "python",
   "name": "python3"
  },
  "language_info": {
   "codemirror_mode": {
    "name": "ipython",
    "version": 3
   },
   "file_extension": ".py",
   "mimetype": "text/x-python",
   "name": "python",
   "nbconvert_exporter": "python",
   "pygments_lexer": "ipython3",
   "version": "3.6.4"
  }
 },
 "nbformat": 4,
 "nbformat_minor": 2
}
