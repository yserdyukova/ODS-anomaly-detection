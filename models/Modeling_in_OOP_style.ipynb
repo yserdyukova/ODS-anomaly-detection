{
 "cells": [
  {
   "cell_type": "code",
   "execution_count": 42,
   "metadata": {},
   "outputs": [],
   "source": [
    "import pandas as pd\n",
    "import glob\n",
    "from contracts import contract"
   ]
  },
  {
   "cell_type": "code",
   "execution_count": 63,
   "metadata": {},
   "outputs": [],
   "source": [
    "def file_to_df(filename, time_list = []):    \n",
    "    ''' Read files from directory and put to pandas dataframe. \n",
    "            Input:\n",
    "                filename - path to files\n",
    "                time_list - date fields\n",
    "            Output:\n",
    "                pd.DataFrame() \n",
    "                \n",
    "    '''\n",
    "    \n",
    "    AllFiles = glob.glob(filename)    \n",
    "    assert len(AllFiles) > 0, 'No files in directory'\n",
    "   \n",
    "    list_ = [pd.DataFrame()]\n",
    "    for file_ in AllFiles:\n",
    "        columns = pd.read_csv(file_, sep=',', nrows=0).columns.str.lower().str.strip()\n",
    "        df = pd.read_csv(file_, ',', names=columns, parse_dates=time_list, dayfirst=True, skiprows=1)\n",
    "        list_.append(df)        \n",
    "    assert len(list_) > 0\n",
    "    \n",
    "    return pd.concat(list_, axis=0, ignore_index=True, sort=True)\n",
    "    \n",
    "\n",
    "@contract(columns='list[>0]')\n",
    "def drop_columns(df, columns):\n",
    "    return df.drop(columns, axis=1)\n",
    "\n",
    "@contract(columns='dict{>0}')\n",
    "def rename_columns(df, columns):\n",
    "    return df.rename(index=str, columns)\n",
    "\n",
    "def replace_values(df):\n",
    "    pass\n",
    "\n",
    "def change_type(df):\n",
    "    pass"
   ]
  },
  {
   "cell_type": "code",
   "execution_count": 68,
   "metadata": {},
   "outputs": [],
   "source": [
    "df_sysMetrics = file_to_df('../features/input/GrpStat_OSGLOB*.dat')\n",
    "df_grpMetrics = file_to_df('../features/input/GrpStat_RGALL*.dat')\n",
    "df_directives = file_to_df('../features/input/GrpStat_Directives*.dat', time_list=['begin_time'])"
   ]
  },
  {
   "cell_type": "code",
   "execution_count": 69,
   "metadata": {},
   "outputs": [
    {
     "ename": "AttributeError",
     "evalue": "'DataFrame' object has no attribute 'rename_columns'",
     "output_type": "error",
     "traceback": [
      "\u001b[1;31m---------------------------------------------------------------------------\u001b[0m",
      "\u001b[1;31mAttributeError\u001b[0m                            Traceback (most recent call last)",
      "\u001b[1;32m<ipython-input-69-a96d8fc5a040>\u001b[0m in \u001b[0;36m<module>\u001b[1;34m()\u001b[0m\n\u001b[0;32m      1\u001b[0m \u001b[0mdf_sysMetrics\u001b[0m \u001b[1;33m=\u001b[0m \u001b[0mProcessData\u001b[0m\u001b[1;33m(\u001b[0m\u001b[0mdf_sysMetrics\u001b[0m\u001b[1;33m)\u001b[0m\u001b[1;33m.\u001b[0m\u001b[0mdrop_columns\u001b[0m\u001b[1;33m(\u001b[0m\u001b[1;33m[\u001b[0m\u001b[1;34m'time'\u001b[0m\u001b[1;33m]\u001b[0m\u001b[1;33m)\u001b[0m\u001b[1;33m\u001b[0m\u001b[0m\n\u001b[1;32m----> 2\u001b[1;33m \u001b[0mdf_grpMetrics\u001b[0m \u001b[1;33m=\u001b[0m \u001b[0mProcessData\u001b[0m\u001b[1;33m(\u001b[0m\u001b[0mdf_grpMetrics\u001b[0m\u001b[1;33m)\u001b[0m\u001b[1;33m.\u001b[0m\u001b[0mdrop_columns\u001b[0m\u001b[1;33m(\u001b[0m\u001b[1;33m[\u001b[0m\u001b[1;34m't_beg'\u001b[0m\u001b[1;33m]\u001b[0m\u001b[1;33m)\u001b[0m\u001b[1;33m.\u001b[0m\u001b[0mrename_columns\u001b[0m\u001b[1;33m(\u001b[0m\u001b[1;33m{\u001b[0m\u001b[1;34m\"instance_number\"\u001b[0m\u001b[1;33m:\u001b[0m \u001b[1;34m\"host\"\u001b[0m\u001b[1;33m,\u001b[0m \u001b[1;34m\"usr_group\"\u001b[0m\u001b[1;33m:\u001b[0m \u001b[1;34m\"consumer_group\"\u001b[0m\u001b[1;33m}\u001b[0m\u001b[1;33m)\u001b[0m\u001b[1;33m\u001b[0m\u001b[0m\n\u001b[0m\u001b[0;32m      3\u001b[0m \u001b[0mdf_directives\u001b[0m \u001b[1;33m=\u001b[0m \u001b[0mProcessData\u001b[0m\u001b[1;33m(\u001b[0m\u001b[0mdf_directives\u001b[0m\u001b[1;33m)\u001b[0m\u001b[1;33m.\u001b[0m\u001b[0mrename_columns\u001b[0m\u001b[1;33m(\u001b[0m\u001b[1;33m{\u001b[0m\u001b[1;34m\"instance_number\"\u001b[0m\u001b[1;33m:\u001b[0m \u001b[1;34m\"host\"\u001b[0m\u001b[1;33m,\u001b[0m \u001b[1;34m\"begin_time\"\u001b[0m\u001b[1;33m:\u001b[0m \u001b[1;34m\"time\"\u001b[0m\u001b[1;33m}\u001b[0m\u001b[1;33m)\u001b[0m\u001b[1;33m\u001b[0m\u001b[0m\n\u001b[0;32m      4\u001b[0m \u001b[1;33m\u001b[0m\u001b[0m\n",
      "\u001b[1;32m~\\Anaconda3\\lib\\site-packages\\pandas\\core\\generic.py\u001b[0m in \u001b[0;36m__getattr__\u001b[1;34m(self, name)\u001b[0m\n\u001b[0;32m   4374\u001b[0m             \u001b[1;32mif\u001b[0m \u001b[0mself\u001b[0m\u001b[1;33m.\u001b[0m\u001b[0m_info_axis\u001b[0m\u001b[1;33m.\u001b[0m\u001b[0m_can_hold_identifiers_and_holds_name\u001b[0m\u001b[1;33m(\u001b[0m\u001b[0mname\u001b[0m\u001b[1;33m)\u001b[0m\u001b[1;33m:\u001b[0m\u001b[1;33m\u001b[0m\u001b[0m\n\u001b[0;32m   4375\u001b[0m                 \u001b[1;32mreturn\u001b[0m \u001b[0mself\u001b[0m\u001b[1;33m[\u001b[0m\u001b[0mname\u001b[0m\u001b[1;33m]\u001b[0m\u001b[1;33m\u001b[0m\u001b[0m\n\u001b[1;32m-> 4376\u001b[1;33m             \u001b[1;32mreturn\u001b[0m \u001b[0mobject\u001b[0m\u001b[1;33m.\u001b[0m\u001b[0m__getattribute__\u001b[0m\u001b[1;33m(\u001b[0m\u001b[0mself\u001b[0m\u001b[1;33m,\u001b[0m \u001b[0mname\u001b[0m\u001b[1;33m)\u001b[0m\u001b[1;33m\u001b[0m\u001b[0m\n\u001b[0m\u001b[0;32m   4377\u001b[0m \u001b[1;33m\u001b[0m\u001b[0m\n\u001b[0;32m   4378\u001b[0m     \u001b[1;32mdef\u001b[0m \u001b[0m__setattr__\u001b[0m\u001b[1;33m(\u001b[0m\u001b[0mself\u001b[0m\u001b[1;33m,\u001b[0m \u001b[0mname\u001b[0m\u001b[1;33m,\u001b[0m \u001b[0mvalue\u001b[0m\u001b[1;33m)\u001b[0m\u001b[1;33m:\u001b[0m\u001b[1;33m\u001b[0m\u001b[0m\n",
      "\u001b[1;31mAttributeError\u001b[0m: 'DataFrame' object has no attribute 'rename_columns'"
     ]
    }
   ],
   "source": [
    "df_sysMetrics = ProcessData(df_sysMetrics).drop_columns(['time'])\n",
    "df_grpMetrics = ProcessData(df_grpMetrics).drop_columns(['t_beg']).rename_columns({\"instance_number\": \"host\", \"usr_group\": \"consumer_group\"})\n",
    "df_directives = ProcessData(df_directives).rename_columns({\"instance_number\": \"host\", \"begin_time\": \"time\"})\n",
    "\n"
   ]
  }
 ],
 "metadata": {
  "kernelspec": {
   "display_name": "Python 3",
   "language": "python",
   "name": "python3"
  },
  "language_info": {
   "codemirror_mode": {
    "name": "ipython",
    "version": 3
   },
   "file_extension": ".py",
   "mimetype": "text/x-python",
   "name": "python",
   "nbconvert_exporter": "python",
   "pygments_lexer": "ipython3",
   "version": "3.6.4"
  }
 },
 "nbformat": 4,
 "nbformat_minor": 2
}
