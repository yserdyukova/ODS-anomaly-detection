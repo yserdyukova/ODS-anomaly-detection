{
 "cells": [
  {
   "cell_type": "code",
   "execution_count": 1,
   "metadata": {},
   "outputs": [],
   "source": [
    "import pandas as pd\n",
    "import numpy as np"
   ]
  },
  {
   "cell_type": "code",
   "execution_count": 2,
   "metadata": {},
   "outputs": [],
   "source": [
    "def filetodf(filename,time_list=[]):\n",
    "    # функция считывает файлы из директории и складывает данные в датафрейм\n",
    "    #  входные данные: \n",
    "    #     filename - путь к файлам\n",
    "    #     time_list - список полей с датой\n",
    "    #  выходные данные: \n",
    "    #     pd.dataframe\n",
    "    \n",
    "    import glob\n",
    "    import pandas as pd\n",
    "    \n",
    "    AllFiles = glob.glob(filename)\n",
    "   \n",
    "    list_ = [pd.DataFrame()]\n",
    "\n",
    "    for file_ in AllFiles:\n",
    "        columns=pd.read_csv(file_, sep=',', nrows=0).columns.str.lower().str.strip()\n",
    "        df = pd.read_csv(file_,',',names=columns,parse_dates=time_list,dayfirst=True,skiprows=1)\n",
    "        list_.append(df)\n",
    "    \n",
    "    return pd.concat(list_, axis = 0, ignore_index = True, sort=True)"
   ]
  },
  {
   "cell_type": "code",
   "execution_count": 3,
   "metadata": {},
   "outputs": [],
   "source": [
    "df_sysMetrics = filetodf('input/GrpStat_OSGLOB*.dat')\n",
    "df_grpMetrics = filetodf('input/GrpStat_RGALL*.dat')\n",
    "df_directives = filetodf('input/GrpStat_Directives*.dat',time_list=['begin_time'])\n",
    "\n",
    "df_sysMetrics.drop(['time'], axis=1,inplace=True)\n",
    "df_grpMetrics.drop(['t_beg'], axis=1,inplace=True)\n",
    "\n",
    "df_grpMetrics.rename(index=str, columns={\"instance_number\": \"host\", \"usr_group\": \"consumer_group\"}, inplace=True)\n",
    "df_directives.rename(index=str, columns={\"instance_number\": \"host\", \"begin_time\": \"time\"}, inplace=True)\n",
    "\n",
    "df_grpMetrics['consumer_group']=df_grpMetrics['consumer_group'].str.strip().str.lower()\n",
    "df_directives['consumer_group']=df_directives['consumer_group'].str.strip().str.lower()\n",
    "df_directives['plan_name']=df_directives['plan_name'].str.strip().str.lower()\n",
    "\n",
    "df_grpMetrics.replace(' None', np.NaN, inplace=True)\n",
    "df_directives.replace(' None', np.NaN, inplace=True)\n",
    "df_sysMetrics.replace(' None', np.NaN, inplace=True)\n",
    "\n",
    "df_directives.parallel_target_percentage=df_directives.parallel_target_percentage.astype(float)\n",
    "df_directives.parallel_degree_limit_p1=df_directives.parallel_degree_limit_p1.astype(float)\n",
    "df_directives.max_utilization_limit=df_directives.max_utilization_limit.astype(float)\n",
    "df_grpMetrics.pga=df_grpMetrics.pga.astype(float)"
   ]
  },
  {
   "cell_type": "code",
   "execution_count": 4,
   "metadata": {},
   "outputs": [],
   "source": [
    "#джойним все данные до уровня host, snap_id, consumer_group\n",
    "df=df_grpMetrics.set_index(['host','snap_id','consumer_group']) \\\n",
    ".join(df_directives.set_index(['host','snap_id','consumer_group']))\\\n",
    ".reset_index()\\\n",
    ".merge(df_sysMetrics,on=['host','snap_id'])\n"
   ]
  },
  {
   "cell_type": "code",
   "execution_count": null,
   "metadata": {},
   "outputs": [],
   "source": [
    "#df = df[df.consumer_group!='other_groups']\n",
    "#df = df[df.consumer_group!='ods2exa_group']"
   ]
  },
  {
   "cell_type": "code",
   "execution_count": 5,
   "metadata": {},
   "outputs": [],
   "source": [
    "# ресэмплинг до часа, чтобы сгладить ряд\n",
    "# заполняем отсутствующие значения средними\n",
    "# фильтруем неполные дни в начале и в конце\n",
    "\n",
    "df = df.sort_values(['host','consumer_group','time'])\n",
    "df = df.set_index(pd.DatetimeIndex(df['time']))\n",
    "#-----------------------------\n",
    "#df.loc[(df.consumer_group=='adw_unload_group')&(df.plan_name=='sandbox_plan'),'mgmt_p1']=26.\n",
    "#-----------------------------\n",
    "\n",
    "#df.max_utilization_limit.fillna(100,inplace=True)\n",
    "#df.parallel_target_percentage.fillna(100,inplace=True)\n",
    "#df.loc[:,'cpu_pct_maxul']=df.cpu/df.max_utilization_limit\n",
    "#df.loc[:,'px_pct_parallel']=df.pxqry/(df.parallel_target_percentage*1400.0/100.0)\n",
    "#df.loc[df.px_pct_parallel>2,'px_pct_parallel']=2.0\n",
    "#df.loc[df.cpu_pct_maxul>2,'cpu_pct_maxul']=2.0\n",
    "#df['CPU_min_treshold']=(df.mgmt_p1/df.max_utilization_limit)\n",
    "\n",
    "columns=df.columns.drop(['host','consumer_group','time','snap_id','plan_name'],errors='ignore')\n",
    "\n",
    "df=df.groupby(['host','consumer_group'])[columns].apply(lambda df: df.resample('H').mean().fillna(df.mean(axis=0))).reset_index(['host','consumer_group'])\n",
    "df=df.groupby(['host','consumer_group',df.index.date]).filter(lambda x: (x.index.min().hour==0)&(x.index.max().hour==23)).reset_index()\n"
   ]
  },
  {
   "cell_type": "code",
   "execution_count": null,
   "metadata": {},
   "outputs": [],
   "source": [
    "#df_week_shift=df[columns].shift(24*7)\n",
    "#df_day_shift=df[columns].shift(24)\n",
    "#for (host,group) in df.drop_duplicates(['host','consumer_group'])[['host','consumer_group']].values:\n",
    "#    t=df[(df.host==host)&(df.consumer_group==group)][columns]\n",
    "#    for row in t.index:\n",
    "#        if t.loc[row].isnull().all():\n",
    "#            row_day=df_day_shift.loc[row,columns]\n",
    "#            row_week=df_week_shift.loc[row,columns]\n",
    "#            if row_week.isnull().all():\n",
    "#                if row_day.isnull().all():\n",
    "#                    df.loc[row,columns]=t.loc[:,columns].mean(axis=0)\n",
    "#                else:\n",
    "#                    df.loc[row,columns]=row_day\n",
    "#            else:\n",
    "#                df.loc[row,columns]=row_week\n",
    "#df.fillna(0,inplace=True)\n",
    "            \n",
    "            "
   ]
  },
  {
   "cell_type": "code",
   "execution_count": 6,
   "metadata": {},
   "outputs": [],
   "source": [
    "df.to_csv('clear_data/rm_features.csv',';',index=False)"
   ]
  }
 ],
 "metadata": {
  "kernelspec": {
   "display_name": "Python 3",
   "language": "python",
   "name": "python3"
  },
  "language_info": {
   "codemirror_mode": {
    "name": "ipython",
    "version": 3
   },
   "file_extension": ".py",
   "mimetype": "text/x-python",
   "name": "python",
   "nbconvert_exporter": "python",
   "pygments_lexer": "ipython3",
   "version": "3.6.4"
  }
 },
 "nbformat": 4,
 "nbformat_minor": 2
}
