{
 "cells": [
  {
   "cell_type": "code",
   "execution_count": 1,
   "metadata": {},
   "outputs": [],
   "source": [
    "import pandas as pd\n",
    "import numpy as np\n",
    "import itertools\n",
    "from datetime import date,datetime\n",
    "from sklearn import preprocessing"
   ]
  },
  {
   "cell_type": "code",
   "execution_count": 2,
   "metadata": {},
   "outputs": [],
   "source": [
    "holidays={\n",
    "2018: {1:[1,2,3,4,5,6,7,8,13,14,20,21,27,28],2:[3,4,10,11,17,18,22,23,24,25],3:[3,4,7,8,9,10,11,17,18,24,25,31],4:[1,7,8,14,15,21,22,28,29,30],5:[1,2,5,6,8,9,12,13,19,20,26,27],6:[2,3,9,10,11,12,16,17,23,24,30],7:[1,7,8,14,15,21,22,28,29],8:[4,5,11,12,18,19,25,26],9:[1,2,8,9,15,16,22,23,29,30],10:[6,7,13,14,20,21,27,28],11:[3,4,5,10,11,17,18,24,25],12:[1,2,8,9,15,16,22,23,29,30,31]},\n",
    "2019: {1:[1,2,3,4,5,6,7,8,12,13,19,20,26,27],2:[2,3,9,10,16,17,22,23,24],3:[2,3,7,8,9,10,16,17,23,24,30,31],4:[6,7,13,14,20,21,27,28,30],5:[1,2,3,4,5,8,9,10,11,12,18,19,25,26],6:[1,2,8,9,11,12,15,16,22,23,29,30],7:[6,7,13,14,20,21,27,28],8:[3,4,10,11,17,18,24,25,31],9:[1,7,8,14,15,21,22,28,29],10:[5,6,12,13,19,20,26,27],11:[2,3,4,9,10,16,17,23,24,30],12:[1,7,8,14,15,21,22,28,29,31]},\n",
    "2020: {1:[1,2,3,4,5,6,7,8,11,12,18,19,25,26],2:[1,2,8,9,15,16,22,23,24,29],3:[1,7,8,9,14,15,21,22,28,29],4:[4,5,11,12,18,19,25,26,30],5:[1,2,3,8,9,10,11,16,17,23,24,30,31],6:[6,7,11,12,13,14,20,21,27,28],7:[4,5,11,12,18,19,25,26],8:[1,2,8,9,15,16,22,23,29,30],9:[5,6,12,13,19,20,26,27],10:[3,4,10,11,17,18,24,25,31],11:[1,3,4,7,8,14,15,21,22,28,29],12:[5,6,12,13,19,20,26,27,31]},\n",
    "2021: {1:[1,2,3,4,5,6,7,8,9,10,16,17,23,24,30,31],2:[6,7,13,14,20,21,22,23,27,28],3:[6,7,8,13,14,20,21,27,28],4:[3,4,10,11,17,18,24,25,30],5:[1,2,3,8,9,10,15,16,22,23,29,30],6:[5,6,11,12,13,14,19,20,26,27],7:[3,4,10,11,17,18,24,25,31],8:[1,7,8,14,15,21,22,28,29],9:[4,5,11,12,18,19,25,26],10:[2,3,9,10,16,17,23,24,30,31],11:[3,4,6,7,13,14,20,21,27,28],12:[4,5,11,12,18,19,25,26,31]}\n",
    "}\n",
    "holidays=pd.DataFrame(list(itertools.chain.from_iterable(list(itertools.chain.from_iterable([[[date(year,month,day) for day in days] for month,days in v.items()] for year,v in holidays.items()])))),columns=['date'])\n",
    "holidays.date=pd.to_datetime(holidays.date)\n",
    "holidays['is_holiday']=1"
   ]
  },
  {
   "cell_type": "code",
   "execution_count": 3,
   "metadata": {},
   "outputs": [],
   "source": [
    "def filetodf(filename,time_list=[]):\n",
    "    # функция считывает файлы из директории и складывает данные в датафрейм\n",
    "    #  входные данные: \n",
    "    #     filename - путь к файлам\n",
    "    #     time_list - список полей с датой\n",
    "    #  выходные данные: \n",
    "    #     pd.dataframe\n",
    "    \n",
    "    import glob\n",
    "    import pandas as pd\n",
    "    \n",
    "    AllFiles = glob.glob(filename)\n",
    "   \n",
    "    list_ = [pd.DataFrame()]\n",
    "\n",
    "    for file_ in AllFiles:\n",
    "        columns=pd.read_csv(file_, sep=',', nrows=0).columns.str.lower().str.strip()\n",
    "        df = pd.read_csv(file_,',',names=columns,parse_dates=time_list,dayfirst=True,skiprows=1)\n",
    "        list_.append(df)\n",
    "    \n",
    "    return pd.concat(list_, axis = 0, ignore_index = True, sort=True)"
   ]
  },
  {
   "cell_type": "code",
   "execution_count": 4,
   "metadata": {},
   "outputs": [],
   "source": [
    "df_sysMetrics = filetodf('input/GrpStat_OSGLOB*.dat')\n",
    "df_grpMetrics = filetodf('input/GrpStat_RGALL*.dat')\n",
    "df_directives = filetodf('input/GrpStat_Directives*.dat',time_list=['begin_time'])\n",
    "\n",
    "df_sysMetrics.drop(['time'], axis=1,inplace=True)\n",
    "df_grpMetrics.drop(['t_beg'], axis=1,inplace=True)\n",
    "\n",
    "df_grpMetrics.rename(index=str, columns={\"instance_number\": \"host\", \"usr_group\": \"consumer_group\"}, inplace=True)\n",
    "df_directives.rename(index=str, columns={\"instance_number\": \"host\", \"begin_time\": \"time\"}, inplace=True)\n",
    "\n",
    "df_grpMetrics['consumer_group']=df_grpMetrics['consumer_group'].str.strip().str.lower()\n",
    "df_directives['consumer_group']=df_directives['consumer_group'].str.strip().str.lower()\n",
    "df_directives['plan_name']=df_directives['plan_name'].str.strip().str.lower()\n",
    "\n",
    "df_grpMetrics.replace(' None', np.NaN, inplace=True)\n",
    "df_directives.replace(' None', np.NaN, inplace=True)\n",
    "df_sysMetrics.replace(' None', np.NaN, inplace=True)\n",
    "\n",
    "df_directives.parallel_target_percentage=df_directives.parallel_target_percentage.astype(float)\n",
    "df_directives.parallel_degree_limit_p1=df_directives.parallel_degree_limit_p1.astype(float)\n",
    "df_directives.max_utilization_limit=df_directives.max_utilization_limit.astype(float)\n",
    "df_grpMetrics.pga=df_grpMetrics.pga.astype(float)"
   ]
  },
  {
   "cell_type": "code",
   "execution_count": 52,
   "metadata": {},
   "outputs": [],
   "source": [
    "#джойним все данные до уровня host, snap_id, consumer_group\n",
    "df=df_grpMetrics.set_index(['host','snap_id','consumer_group']) \\\n",
    ".join(df_directives.set_index(['host','snap_id','consumer_group']))\\\n",
    ".reset_index()\\\n",
    ".merge(df_sysMetrics,on=['host','snap_id'])\n",
    "\n",
    "df = df[df.consumer_group!='other_groups']\n",
    "df = df[df.consumer_group!='ods2exa_group']\n",
    "\n",
    "# ресэмплинг до часа, чтобы сгладить ряд\n",
    "# заполняем отсутствующие значения средними\n",
    "# фильтруем неполные дни в начале и в конце\n",
    "\n",
    "df = df.sort_values(['host','consumer_group','time'])\n",
    "df = df.set_index(pd.DatetimeIndex(df['time']))\n",
    "#-----------------------------\n",
    "#df.loc[(df.consumer_group=='adw_unload_group')&(df.plan_name=='sandbox_plan'),'mgmt_p1']=26.\n",
    "#-----------------------------\n",
    "\n",
    "df.max_utilization_limit.fillna(100,inplace=True)\n",
    "df.parallel_target_percentage.fillna(100,inplace=True)\n",
    "df.parallel_degree_limit_p1.fillna(100,inplace=True)\n",
    "\n",
    "#df.loc[:,'cpu_pct_maxul']=df.cpu/df.max_utilization_limit\n",
    "#df.loc[:,'px_pct_parallel']=df.pxqry/(df.parallel_target_percentage*1400.0/100.0)\n",
    "#df.loc[df.px_pct_parallel>2,'px_pct_parallel']=2.0\n",
    "#df.loc[df.cpu_pct_maxul>2,'cpu_pct_maxul']=2.0\n",
    "#df['CPU_min_treshold']=(df.mgmt_p1/df.max_utilization_limit)\n",
    "\n",
    "columns=df.columns.drop(['host','consumer_group','time','snap_id','plan_name'],errors='ignore')\n",
    "\n",
    "df=df.groupby(['host','consumer_group'])[columns].apply(lambda df: df.resample('H').mean().fillna(df.mean(axis=0))).reset_index(['host','consumer_group'])\n",
    "df=df.groupby(['host','consumer_group',df.index.date]).filter(lambda x: (x.index.min().hour==0)&(x.index.max().hour==23)).reset_index()\n"
   ]
  },
  {
   "cell_type": "code",
   "execution_count": null,
   "metadata": {},
   "outputs": [],
   "source": [
    "#null_columns=df.columns[df.isnull().any()]\n",
    "#df[null_columns].isnull().sum()"
   ]
  },
  {
   "cell_type": "code",
   "execution_count": 53,
   "metadata": {},
   "outputs": [],
   "source": [
    "# нормируем признаки \n",
    "host_cons=[(host,group) for host,group in df.drop_duplicates(['host','consumer_group'])[['host','consumer_group']].values]\n",
    "scaler = preprocessing.MinMaxScaler()\n",
    "df_scaled=pd.DataFrame()\n",
    "for (host,consumer_group) in host_cons:\n",
    "    df_sample=df[(df.host==host)&(df.consumer_group==consumer_group)].reset_index(drop=True)\n",
    "    df_sample=pd.concat([df_sample.drop(columns=columns),pd.DataFrame(scaler.fit_transform(df_sample[columns]),columns=columns)],axis=1,sort=False)\n",
    "    df_scaled=pd.concat([df_scaled,df_sample],sort=False)\n",
    "\n"
   ]
  },
  {
   "cell_type": "code",
   "execution_count": 54,
   "metadata": {},
   "outputs": [],
   "source": [
    "\n",
    "# datetime features\n",
    "\n",
    "    #day_of_month\n",
    "    #day_of_week\n",
    "    #month_of_year\n",
    "    #hour_of_day\n",
    "    #is_holiday\n",
    "    #is_weekend\n",
    "    #quarter_of_year\n",
    "\n",
    "\n",
    "df_scaled.loc[:,('day_of_months')]=df_scaled.time.dt.day\n",
    "df_scaled.loc[:,('day_of_week')]=df_scaled.time.dt.dayofweek\n",
    "df_scaled.loc[:,('month_of_year')]=df_scaled.time.dt.month\n",
    "df_scaled.loc[:,('hour_of_day')]=df_scaled.time.dt.hour\n",
    "df_scaled.loc[:,('is_weekend')]=df_scaled.time.dt.dayofweek.isin([5,6])*1\n",
    "df_scaled.loc[:,('quarter_of_year')]=df_scaled.time.dt.quarter\n",
    "\n",
    "df_scaled['date']=pd.to_datetime(df_scaled.time.dt.strftime('%Y-%m-%d'))\n",
    "df_scaled=df_scaled.merge(holidays,on='date', how='left').drop(columns=['date'])\n",
    "df_scaled.loc[:,('is_holiday')].fillna(0,inplace=True)\n",
    "\n",
    "#dummy features\n",
    "\n",
    "dummy_columns=['day_of_months','day_of_week','month_of_year','hour_of_day','quarter_of_year','host','consumer_group']\n",
    "#dummy_columns=['day_of_months','day_of_week','month_of_year','hour_of_day','quarter_of_year']\n",
    "df_scaled=pd.concat(\n",
    "    [\n",
    "        df_scaled,\n",
    "        pd.get_dummies(\n",
    "            df_scaled[dummy_columns].astype(str),\n",
    "            prefix=dummy_columns)\n",
    "    ],\n",
    "    axis=1,\n",
    "    sort=False\n",
    ")"
   ]
  },
  {
   "cell_type": "code",
   "execution_count": null,
   "metadata": {},
   "outputs": [],
   "source": [
    "# добавляем лаги исходного ряда в качестве признаков\n"
   ]
  },
  {
   "cell_type": "code",
   "execution_count": null,
   "metadata": {},
   "outputs": [],
   "source": [
    "#df_week_shift=df[columns].shift(24*7)\n",
    "#df_day_shift=df[columns].shift(24)\n",
    "#for (host,group) in df.drop_duplicates(['host','consumer_group'])[['host','consumer_group']].values:\n",
    "#    t=df[(df.host==host)&(df.consumer_group==group)][columns]\n",
    "#    for row in t.index:\n",
    "#        if t.loc[row].isnull().all():\n",
    "#            row_day=df_day_shift.loc[row,columns]\n",
    "#            row_week=df_week_shift.loc[row,columns]\n",
    "#            if row_week.isnull().all():\n",
    "#                if row_day.isnull().all():\n",
    "#                    df.loc[row,columns]=t.loc[:,columns].mean(axis=0)\n",
    "#                else:\n",
    "#                    df.loc[row,columns]=row_day\n",
    "#            else:\n",
    "#                df.loc[row,columns]=row_week\n",
    "#df.fillna(0,inplace=True)\n",
    "            \n",
    "            "
   ]
  },
  {
   "cell_type": "code",
   "execution_count": 55,
   "metadata": {},
   "outputs": [],
   "source": [
    "df_scaled.to_csv('clear_data/rm_features.csv',';',index=False)"
   ]
  }
 ],
 "metadata": {
  "kernelspec": {
   "display_name": "Python 3",
   "language": "python",
   "name": "python3"
  },
  "language_info": {
   "codemirror_mode": {
    "name": "ipython",
    "version": 3
   },
   "file_extension": ".py",
   "mimetype": "text/x-python",
   "name": "python",
   "nbconvert_exporter": "python",
   "pygments_lexer": "ipython3",
   "version": "3.6.4"
  }
 },
 "nbformat": 4,
 "nbformat_minor": 2
}
